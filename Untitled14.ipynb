{
  "nbformat": 4,
  "nbformat_minor": 0,
  "metadata": {
    "colab": {
      "provenance": [],
      "authorship_tag": "ABX9TyOwHlBjr3sRFACfqEOsZwrQ",
      "include_colab_link": true
    },
    "kernelspec": {
      "name": "python3",
      "display_name": "Python 3"
    },
    "language_info": {
      "name": "python"
    }
  },
  "cells": [
    {
      "cell_type": "markdown",
      "metadata": {
        "id": "view-in-github",
        "colab_type": "text"
      },
      "source": [
        "<a href=\"https://colab.research.google.com/github/jelitaaameliaputri/tugas-algoritma-pertemuan14/blob/main/Untitled14.ipynb\" target=\"_parent\"><img src=\"https://colab.research.google.com/assets/colab-badge.svg\" alt=\"Open In Colab\"/></a>"
      ]
    },
    {
      "cell_type": "markdown",
      "source": [],
      "metadata": {
        "id": "78LSvjwMI-KQ"
      }
    },
    {
      "cell_type": "code",
      "source": [
        "# Program Toko Skincare Garnier Sederhana\n",
        "\n",
        "# Daftar produk skincare Garnier\n",
        "produk = {\n",
        "    1: {\"nama\": \"Garnier Micellar Water\", \"harga\": 35000},\n",
        "    2: {\"nama\": \"Garnier Serum Vitamin C\", \"harga\": 75000},\n",
        "    3: {\"nama\": \"Garnier Facial Foam\", \"harga\": 40000},\n",
        "    4: {\"nama\": \"Garnier Light Complete Cream\", \"harga\": 60000}\n",
        "}\n",
        "\n",
        "# List untuk menyimpan keranjang belanja\n",
        "keranjang = []\n",
        "\n",
        "# Tampilkan daftar produk\n",
        "def tampilkan_produk():\n",
        "    print(\"=== Daftar Produk Skincare Garnier ===\")\n",
        "    for kode, info in produk.items():\n",
        "        print(f\"{kode}. {info['nama']} - Rp{info['harga']:,}\")\n",
        "\n",
        "# Tambah produk ke keranjang belanja\n",
        "def tambah_ke_keranjang():\n",
        "    while True:\n",
        "        try:\n",
        "            kode = int(input(\"Masukkan kode produk (0 untuk selesai): \"))\n",
        "            if kode == 0:\n",
        "                break\n",
        "            if kode not in produk:\n",
        "                print(\"Kode produk tidak valid. Coba lagi.\")\n",
        "                continue\n",
        "            jumlah = int(input(\"Jumlah: \"))\n",
        "            keranjang.append({\"kode\": kode, \"jumlah\": jumlah})\n",
        "        except ValueError:\n",
        "            print(\"Input tidak valid. Masukkan angka saja.\")\n",
        "\n",
        "# Tampilkan isi keranjang dan total belanja\n",
        "def tampilkan_keranjang():\n",
        "    print(\"\\n=== Keranjang Belanja ===\")\n",
        "    total = 0\n",
        "    for item in keranjang:\n",
        "        produk_terpilih = produk[item[\"kode\"]]\n",
        "        subtotal = produk_terpilih[\"harga\"] * item[\"jumlah\"]\n",
        "        total += subtotal\n",
        "        print(f\"{produk_terpilih['nama']} x{item['jumlah']} = Rp{subtotal:,}\")\n",
        "    print(f\"Total Belanja: Rp{total:,}\")\n",
        "\n",
        "# Main Program\n",
        "tampilkan_produk()\n",
        "tambah_ke_keranjang()\n",
        "tampilkan_keranjang()\n",
        "print(\"\\nTerima kasih telah berbelanja di Toko Skincare Garnier kami!\")"
      ],
      "metadata": {
        "colab": {
          "base_uri": "https://localhost:8080/"
        },
        "id": "nD14qd5lI1E6",
        "outputId": "d7243cba-8738-46c0-9ac8-62bef39c771a"
      },
      "execution_count": 3,
      "outputs": [
        {
          "output_type": "stream",
          "name": "stdout",
          "text": [
            "=== Daftar Produk Skincare Garnier ===\n",
            "1. Garnier Micellar Water - Rp35,000\n",
            "2. Garnier Serum Vitamin C - Rp75,000\n",
            "3. Garnier Facial Foam - Rp40,000\n",
            "4. Garnier Light Complete Cream - Rp60,000\n",
            "Masukkan kode produk (0 untuk selesai): 1\n",
            "Jumlah: 100\n",
            "Masukkan kode produk (0 untuk selesai): 2\n",
            "Jumlah: 110\n",
            "Masukkan kode produk (0 untuk selesai): 3\n",
            "Jumlah: 470\n",
            "Masukkan kode produk (0 untuk selesai): 4\n",
            "Jumlah: 500\n",
            "Masukkan kode produk (0 untuk selesai): 0\n",
            "\n",
            "=== Keranjang Belanja ===\n",
            "Garnier Micellar Water x100 = Rp3,500,000\n",
            "Garnier Serum Vitamin C x110 = Rp8,250,000\n",
            "Garnier Facial Foam x470 = Rp18,800,000\n",
            "Garnier Light Complete Cream x500 = Rp30,000,000\n",
            "Total Belanja: Rp60,550,000\n",
            "\n",
            "Terima kasih telah berbelanja di Toko Skincare Garnier kami!\n"
          ]
        }
      ]
    }
  ]
}